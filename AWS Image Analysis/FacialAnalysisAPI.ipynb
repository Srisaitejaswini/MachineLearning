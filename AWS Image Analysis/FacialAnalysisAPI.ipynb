{
 "cells": [
  {
   "cell_type": "code",
   "execution_count": 1,
   "metadata": {},
   "outputs": [],
   "source": [
    "import boto3"
   ]
  },
  {
   "cell_type": "code",
   "execution_count": 2,
   "metadata": {},
   "outputs": [],
   "source": [
    "client = boto3.client('rekognition')"
   ]
  },
  {
   "cell_type": "code",
   "execution_count": 3,
   "metadata": {},
   "outputs": [],
   "source": [
    "#Function for Analysing the facial features\n",
    "def FacialAnalysis(imageFile):\n",
    "    i = 1\n",
    "    with open(imageFile, 'rb') as image:\n",
    "        response = client.detect_faces(Image={'Bytes': image.read()},Attributes = ['ALL'])\n",
    "        #print(response)\n",
    "    faces = len(response['FaceDetails'])\n",
    "    if faces>=1:\n",
    "        for face in response['FaceDetails']:\n",
    "        #else:\n",
    "            print(\"For face {0}\".format(i))\n",
    "            print(\"\\tGender: {0}\\n\\tAgeGroup: {1}\\n\\tSmile: {2}\\n\\tSunglasses: {3}\\n\\tEyeGlasses: {4}\\n\\tBeard: {5}\\n\\tMustache: {6}\".format(face['Gender'],face['AgeRange'],face['Smile'],face['Sunglasses'],face['Eyeglasses'],face['Beard'],face['Mustache']))\n",
    "            i += 1\n",
    "    else:\n",
    "        print(\"There is no face in this image.Please use a image with faces for Facial Analysis\")"
   ]
  },
  {
   "cell_type": "code",
   "execution_count": 4,
   "metadata": {},
   "outputs": [],
   "source": [
    "image1 = \"C:\\Python37\\IMG-20180908-WA0000.jpg\""
   ]
  },
  {
   "cell_type": "code",
   "execution_count": 5,
   "metadata": {},
   "outputs": [],
   "source": [
    "image2 = \"C:\\Python37\\image1.jpg\""
   ]
  },
  {
   "cell_type": "code",
   "execution_count": 6,
   "metadata": {},
   "outputs": [],
   "source": [
    "image3 = \"C:\\Python37\\images.jpg\""
   ]
  },
  {
   "cell_type": "code",
   "execution_count": 7,
   "metadata": {},
   "outputs": [
    {
     "name": "stdout",
     "output_type": "stream",
     "text": [
      "For face 1\n",
      "\tGender: {'Value': 'Male', 'Confidence': 99.92546844482422}\n",
      "\tAgeGroup: {'Low': 26, 'High': 43}\n",
      "\tSmile: {'Value': True, 'Confidence': 73.83432006835938}\n",
      "\tSunglasses: {'Value': False, 'Confidence': 99.27095794677734}\n",
      "\tEyeGlasses: {'Value': True, 'Confidence': 91.39436340332031}\n",
      "\tBeard: {'Value': True, 'Confidence': 99.9244155883789}\n",
      "\tMustache: {'Value': True, 'Confidence': 99.90105438232422}\n",
      "For face 2\n",
      "\tGender: {'Value': 'Female', 'Confidence': 99.71719360351562}\n",
      "\tAgeGroup: {'Low': 20, 'High': 38}\n",
      "\tSmile: {'Value': True, 'Confidence': 73.44175720214844}\n",
      "\tSunglasses: {'Value': False, 'Confidence': 92.96907043457031}\n",
      "\tEyeGlasses: {'Value': False, 'Confidence': 86.73652648925781}\n",
      "\tBeard: {'Value': False, 'Confidence': 97.80184936523438}\n",
      "\tMustache: {'Value': False, 'Confidence': 97.79649353027344}\n",
      "For face 3\n",
      "\tGender: {'Value': 'Female', 'Confidence': 99.99071502685547}\n",
      "\tAgeGroup: {'Low': 15, 'High': 25}\n",
      "\tSmile: {'Value': True, 'Confidence': 98.62646484375}\n",
      "\tSunglasses: {'Value': False, 'Confidence': 98.80651092529297}\n",
      "\tEyeGlasses: {'Value': False, 'Confidence': 99.92046356201172}\n",
      "\tBeard: {'Value': False, 'Confidence': 99.97846221923828}\n",
      "\tMustache: {'Value': False, 'Confidence': 99.85840606689453}\n"
     ]
    }
   ],
   "source": [
    "#Facial Analysis on the image with multiple Faces\n",
    "FacialAnalysis(image1)"
   ]
  },
  {
   "cell_type": "code",
   "execution_count": 8,
   "metadata": {},
   "outputs": [
    {
     "name": "stdout",
     "output_type": "stream",
     "text": [
      "For face 1\n",
      "\tGender: {'Value': 'Female', 'Confidence': 99.68013000488281}\n",
      "\tAgeGroup: {'Low': 26, 'High': 44}\n",
      "\tSmile: {'Value': False, 'Confidence': 95.24485778808594}\n",
      "\tSunglasses: {'Value': False, 'Confidence': 97.11182403564453}\n",
      "\tEyeGlasses: {'Value': False, 'Confidence': 99.58765411376953}\n",
      "\tBeard: {'Value': False, 'Confidence': 99.98600006103516}\n",
      "\tMustache: {'Value': False, 'Confidence': 99.96903991699219}\n"
     ]
    }
   ],
   "source": [
    "#Facial Analysis on a image with a Single Face\n",
    "FacialAnalysis(image2)"
   ]
  },
  {
   "cell_type": "code",
   "execution_count": 9,
   "metadata": {},
   "outputs": [
    {
     "name": "stdout",
     "output_type": "stream",
     "text": [
      "There is no face in this image.Please use a image with faces for Facial Analysis\n"
     ]
    }
   ],
   "source": [
    "FacialAnalysis(image3)"
   ]
  }
 ],
 "metadata": {
  "kernelspec": {
   "display_name": "Python 3",
   "language": "python",
   "name": "python3"
  },
  "language_info": {
   "codemirror_mode": {
    "name": "ipython",
    "version": 3
   },
   "file_extension": ".py",
   "mimetype": "text/x-python",
   "name": "python",
   "nbconvert_exporter": "python",
   "pygments_lexer": "ipython3",
   "version": "3.7.0"
  }
 },
 "nbformat": 4,
 "nbformat_minor": 2
}
