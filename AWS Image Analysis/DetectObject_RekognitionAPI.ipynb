{
 "cells": [
  {
   "cell_type": "code",
   "execution_count": 1,
   "metadata": {},
   "outputs": [],
   "source": [
    "import boto3"
   ]
  },
  {
   "cell_type": "code",
   "execution_count": 2,
   "metadata": {},
   "outputs": [],
   "source": [
    "imageFile='C:\\Python37\\input.jpg'"
   ]
  },
  {
   "cell_type": "code",
   "execution_count": 3,
   "metadata": {},
   "outputs": [],
   "source": [
    "#Creating a Client for rekognition\n",
    "client=boto3.client('rekognition')"
   ]
  },
  {
   "cell_type": "code",
   "execution_count": 4,
   "metadata": {},
   "outputs": [],
   "source": [
    "#Detecting the labels in the image\n",
    "with open(imageFile, 'rb') as image:\n",
    "    response = client.detect_labels(Image={'Bytes': image.read()})   "
   ]
  },
  {
   "cell_type": "code",
   "execution_count": 5,
   "metadata": {},
   "outputs": [
    {
     "name": "stdout",
     "output_type": "stream",
     "text": [
      "Detected labels in C:\\Python37\\input.jpg\n"
     ]
    }
   ],
   "source": [
    "print('Detected labels in ' + imageFile)    "
   ]
  },
  {
   "cell_type": "code",
   "execution_count": 6,
   "metadata": {},
   "outputs": [
    {
     "name": "stdout",
     "output_type": "stream",
     "text": [
      "Human : 98.76345825195312\n",
      "People : 98.763427734375\n",
      "Person : 98.76345825195312\n",
      "Flora : 97.4721908569336\n",
      "Jar : 97.4721908569336\n",
      "Plant : 97.4721908569336\n",
      "Potted Plant : 97.4721908569336\n",
      "Pottery : 97.4721908569336\n",
      "Vase : 97.4721908569336\n",
      "Collage : 67.04094696044922\n",
      "Poster : 67.04094696044922\n",
      "Blossom : 60.77495193481445\n",
      "Flower : 60.77495193481445\n",
      "Rose : 60.77495193481445\n",
      "Crowd : 60.28000259399414\n",
      "Festival : 60.28000259399414\n",
      "Clothing : 58.815128326416016\n",
      "Gown : 58.815128326416016\n",
      "Kimono : 58.815128326416016\n",
      "Robe : 58.815128326416016\n",
      "Petal : 56.815616607666016\n",
      "Accessories : 55.558658599853516\n",
      "Flower Arrangement : 51.939666748046875\n",
      "Flower Bouquet : 51.939666748046875\n",
      "Ornament : 51.939666748046875\n",
      "Female : 51.54877853393555\n",
      "Face : 50.708126068115234\n",
      "Portrait : 50.708126068115234\n",
      "Costume : 50.65678787231445\n",
      "Parade : 50.6431999206543\n"
     ]
    }
   ],
   "source": [
    "for label in response['Labels']:\n",
    "    print (label['Name'] + ' : ' + str(label['Confidence']))"
   ]
  },
  {
   "cell_type": "code",
   "execution_count": 7,
   "metadata": {},
   "outputs": [],
   "source": [
    "#Function to Validate if the image has a particular Object in it or not\n",
    "def ValidateObject(obj):\n",
    "    obj = obj.title()\n",
    "    boolean = 0\n",
    "    for label in response['Labels']:\n",
    "        if label['Name'] == obj:\n",
    "            boolean = 1\n",
    "            confidence = label['Confidence']\n",
    "    if (boolean == 1):\n",
    "        print(\"{0} is present in the picture. The Confidence rate for the same is {1}\".format(obj,confidence))\n",
    "    else:\n",
    "        print(\"Sorry! {0} is not there in this image.\".format(obj))"
   ]
  },
  {
   "cell_type": "code",
   "execution_count": 8,
   "metadata": {
    "scrolled": true
   },
   "outputs": [
    {
     "name": "stdout",
     "output_type": "stream",
     "text": [
      "Enter the object which needs to be detected in the image: Ornament\n"
     ]
    }
   ],
   "source": [
    "obj = input(\"Enter the object which needs to be detected in the image: \")"
   ]
  },
  {
   "cell_type": "code",
   "execution_count": 9,
   "metadata": {},
   "outputs": [
    {
     "name": "stdout",
     "output_type": "stream",
     "text": [
      "Ornament is present in the picture. The Confidence rate for the same is 51.939666748046875\n"
     ]
    }
   ],
   "source": [
    "ValidateObject(obj)"
   ]
  },
  {
   "cell_type": "code",
   "execution_count": 10,
   "metadata": {},
   "outputs": [
    {
     "name": "stdout",
     "output_type": "stream",
     "text": [
      "Sorry! Dog is not there in this image.\n"
     ]
    }
   ],
   "source": [
    "ValidateObject(\"Dog\")"
   ]
  }
 ],
 "metadata": {
  "kernelspec": {
   "display_name": "Python 3",
   "language": "python",
   "name": "python3"
  },
  "language_info": {
   "codemirror_mode": {
    "name": "ipython",
    "version": 3
   },
   "file_extension": ".py",
   "mimetype": "text/x-python",
   "name": "python",
   "nbconvert_exporter": "python",
   "pygments_lexer": "ipython3",
   "version": "3.7.0"
  }
 },
 "nbformat": 4,
 "nbformat_minor": 2
}
