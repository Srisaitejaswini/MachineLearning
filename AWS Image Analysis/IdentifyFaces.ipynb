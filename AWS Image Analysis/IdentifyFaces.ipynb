{
 "cells": [
  {
   "cell_type": "code",
   "execution_count": 1,
   "metadata": {},
   "outputs": [],
   "source": [
    "import boto3\n",
    "import cv2"
   ]
  },
  {
   "cell_type": "code",
   "execution_count": 2,
   "metadata": {},
   "outputs": [],
   "source": [
    "client = boto3.client('rekognition')"
   ]
  },
  {
   "cell_type": "code",
   "execution_count": 3,
   "metadata": {},
   "outputs": [],
   "source": [
    "#deleteCollection = client.delete_collection(CollectionId = 'ImageCollection')"
   ]
  },
  {
   "cell_type": "code",
   "execution_count": 4,
   "metadata": {},
   "outputs": [
    {
     "data": {
      "text/plain": [
       "{'StatusCode': 200,\n",
       " 'CollectionArn': 'aws:rekognition:eu-west-1:136286258411:collection/ImageCollection',\n",
       " 'FaceModelVersion': '3.0',\n",
       " 'ResponseMetadata': {'RequestId': '12e0dc47-bc28-11e8-95f1-f3ebd9a37963',\n",
       "  'HTTPStatusCode': 200,\n",
       "  'HTTPHeaders': {'content-type': 'application/x-amz-json-1.1',\n",
       "   'date': 'Wed, 19 Sep 2018 16:21:33 GMT',\n",
       "   'x-amzn-requestid': '12e0dc47-bc28-11e8-95f1-f3ebd9a37963',\n",
       "   'content-length': '127',\n",
       "   'connection': 'keep-alive'},\n",
       "  'RetryAttempts': 0}}"
      ]
     },
     "execution_count": 4,
     "metadata": {},
     "output_type": "execute_result"
    }
   ],
   "source": [
    "#Creating the Collection\n",
    "client.create_collection(CollectionId = 'ImageCollection')"
   ]
  },
  {
   "cell_type": "code",
   "execution_count": 5,
   "metadata": {},
   "outputs": [],
   "source": [
    "#Indexing the Faces\n",
    "def IndexFaces(photo,photoname):\n",
    "    response = client.index_faces(CollectionId = 'ImageCollection',Image = {'S3Object':{'Bucket':'photobucket999','Name':photo}},\n",
    "                                ExternalImageId=photoname,\n",
    "                                DetectionAttributes=['ALL'])\n",
    "    print ('Faces in ' + photo) \n",
    "    for faceRecord in response['FaceRecords']:\n",
    "         print (faceRecord['Face']['FaceId'])"
   ]
  },
  {
   "cell_type": "code",
   "execution_count": 6,
   "metadata": {},
   "outputs": [
    {
     "name": "stdout",
     "output_type": "stream",
     "text": [
      "Faces in photo1.jpg\n",
      "34318bd5-09bf-4eae-aa02-3f90787e43e2\n",
      "Faces in photo2.jpg\n",
      "7385a1d3-8b4e-401e-9374-a096c01d21da\n",
      "Faces in photo3.jpg\n",
      "d8b4fc16-bb40-4c15-84a6-42aaef7ed305\n",
      "Faces in photo4.jpg\n",
      "5a8d0546-419f-4ae4-af81-3e934f75a892\n",
      "Faces in photo5.jpg\n",
      "a73e8197-8d95-4cf3-a9ee-6ecbab05bd9b\n",
      "Faces in photo6.jpg\n",
      "73debdfe-6e20-41b6-a51b-7a80c8215341\n",
      "Faces in photo7.jpg\n",
      "e1494dd9-26d0-424c-84ae-2b0b57ba7669\n",
      "Faces in photo8.jpg\n",
      "18bb857a-243b-4115-9fe3-1cd455f84679\n",
      "Faces in photo9.jpg\n",
      "b4d5c85e-a5b4-4a1e-86f6-230861118817\n",
      "Faces in photo10.jpg\n",
      "df82da1a-77c8-477c-8056-474cfc9502a3\n",
      "Faces in photo11.jpg\n",
      "eda2631f-23bb-4c1f-9bd9-faf18bf031dc\n",
      "Faces in photo12.jpg\n",
      "557d351b-fe3e-4b2e-a3f7-6663c7ef396d\n"
     ]
    }
   ],
   "source": [
    "IndexFaces('photo1.jpg','Geet')\n",
    "IndexFaces('photo2.jpg','Geet')\n",
    "IndexFaces('photo3.jpg','Geet')\n",
    "IndexFaces('photo4.jpg','Tejaswini')\n",
    "IndexFaces('photo5.jpg','Tejaswini')\n",
    "IndexFaces('photo6.jpg','Tejaswini')\n",
    "IndexFaces('photo7.jpg','Tejaswini')\n",
    "IndexFaces('photo8.jpg','Tejaswini')\n",
    "IndexFaces('photo9.jpg','Tejaswini')\n",
    "IndexFaces('photo10.jpg','Geet')\n",
    "IndexFaces('photo11.jpg','Geet')\n",
    "IndexFaces('photo12.jpg','Geet')"
   ]
  },
  {
   "cell_type": "code",
   "execution_count": 7,
   "metadata": {},
   "outputs": [
    {
     "data": {
      "text/plain": [
       "{'Faces': [{'FaceId': '18bb857a-243b-4115-9fe3-1cd455f84679',\n",
       "   'BoundingBox': {'Width': 0.17036999762058258,\n",
       "    'Height': 0.12727299332618713,\n",
       "    'Left': 0.6047139763832092,\n",
       "    'Top': 0.18080799281597137},\n",
       "   'ImageId': 'db91a7d1-0c7f-5631-a460-72babc18bf7a',\n",
       "   'ExternalImageId': 'Tejaswini',\n",
       "   'Confidence': 100.0},\n",
       "  {'FaceId': '34318bd5-09bf-4eae-aa02-3f90787e43e2',\n",
       "   'BoundingBox': {'Width': 0.30562999844551086,\n",
       "    'Height': 0.17272700369358063,\n",
       "    'Left': 0.36729198694229126,\n",
       "    'Top': 0.2222220003604889},\n",
       "   'ImageId': '545006d1-5bec-5dcd-a05e-51a7e095c181',\n",
       "   'ExternalImageId': 'Geet',\n",
       "   'Confidence': 100.0},\n",
       "  {'FaceId': '557d351b-fe3e-4b2e-a3f7-6663c7ef396d',\n",
       "   'BoundingBox': {'Width': 0.3279710114002228,\n",
       "    'Height': 0.18535399436950684,\n",
       "    'Left': 0.31009799242019653,\n",
       "    'Top': 0.25757598876953125},\n",
       "   'ImageId': '726fdd65-b053-5b3d-ade0-ade8fc6bfd67',\n",
       "   'ExternalImageId': 'Geet',\n",
       "   'Confidence': 99.9990005493164},\n",
       "  {'FaceId': '5a8d0546-419f-4ae4-af81-3e934f75a892',\n",
       "   'BoundingBox': {'Width': 0.12121199816465378,\n",
       "    'Height': 0.09090910106897354,\n",
       "    'Left': 0.12255900353193283,\n",
       "    'Top': 0.23838399350643158},\n",
       "   'ImageId': '5bde1212-722a-5840-8267-e548c6b84e8e',\n",
       "   'ExternalImageId': 'Tejaswini',\n",
       "   'Confidence': 100.0},\n",
       "  {'FaceId': '7385a1d3-8b4e-401e-9374-a096c01d21da',\n",
       "   'BoundingBox': {'Width': 0.1636359989643097,\n",
       "    'Height': 0.2904379963874817,\n",
       "    'Left': 0.349494993686676,\n",
       "    'Top': 0.2055409997701645},\n",
       "   'ImageId': 'c0a24fa4-b860-5947-b910-ff780fad2339',\n",
       "   'ExternalImageId': 'Geet',\n",
       "   'Confidence': 99.96510314941406},\n",
       "  {'FaceId': '73debdfe-6e20-41b6-a51b-7a80c8215341',\n",
       "   'BoundingBox': {'Width': 0.31919199228286743,\n",
       "    'Height': 0.23939399421215057,\n",
       "    'Left': 0.274073988199234,\n",
       "    'Top': 0.35606101155281067},\n",
       "   'ImageId': 'b5b86cc1-dae6-5651-b746-62730f252d49',\n",
       "   'ExternalImageId': 'Tejaswini',\n",
       "   'Confidence': 99.99710083007812},\n",
       "  {'FaceId': 'a73e8197-8d95-4cf3-a9ee-6ecbab05bd9b',\n",
       "   'BoundingBox': {'Width': 0.251010000705719,\n",
       "    'Height': 0.3346799910068512,\n",
       "    'Left': 0.21565699577331543,\n",
       "    'Top': 0.217508003115654},\n",
       "   'ImageId': 'dc1fef84-0fab-5118-9af7-b53192c9c916',\n",
       "   'ExternalImageId': 'Tejaswini',\n",
       "   'Confidence': 100.0},\n",
       "  {'FaceId': 'b4d5c85e-a5b4-4a1e-86f6-230861118817',\n",
       "   'BoundingBox': {'Width': 0.4074069857597351,\n",
       "    'Height': 0.30504998564720154,\n",
       "    'Left': 0.16430999338626862,\n",
       "    'Top': 0.28585898876190186},\n",
       "   'ImageId': '49f085f5-611b-523f-a4ba-7ef747db86a7',\n",
       "   'ExternalImageId': 'Tejaswini',\n",
       "   'Confidence': 99.9999008178711},\n",
       "  {'FaceId': 'd8b4fc16-bb40-4c15-84a6-42aaef7ed305',\n",
       "   'BoundingBox': {'Width': 0.2761389911174774,\n",
       "    'Height': 0.15606099367141724,\n",
       "    'Left': 0.594281017780304,\n",
       "    'Top': 0.2808080017566681},\n",
       "   'ImageId': '35223b52-00af-5462-9de7-36a9910fbf65',\n",
       "   'ExternalImageId': 'Geet',\n",
       "   'Confidence': 99.99380493164062},\n",
       "  {'FaceId': 'df82da1a-77c8-477c-8056-474cfc9502a3',\n",
       "   'BoundingBox': {'Width': 0.4244860112667084,\n",
       "    'Height': 0.23989899456501007,\n",
       "    'Left': 0.2189449965953827,\n",
       "    'Top': 0.23686900734901428},\n",
       "   'ImageId': 'b893b5f3-71ba-5bb9-9442-2eae345be4c4',\n",
       "   'ExternalImageId': 'Geet',\n",
       "   'Confidence': 100.0},\n",
       "  {'FaceId': 'e1494dd9-26d0-424c-84ae-2b0b57ba7669',\n",
       "   'BoundingBox': {'Width': 0.5367000102996826,\n",
       "    'Height': 0.40252500772476196,\n",
       "    'Left': 0.36834999918937683,\n",
       "    'Top': 0.40606099367141724},\n",
       "   'ImageId': '24b2caf8-b03e-585b-aa6c-35e119a2a4e7',\n",
       "   'ExternalImageId': 'Tejaswini',\n",
       "   'Confidence': 99.9948959350586},\n",
       "  {'FaceId': 'eda2631f-23bb-4c1f-9bd9-faf18bf031dc',\n",
       "   'BoundingBox': {'Width': 0.5174260139465332,\n",
       "    'Height': 0.2924239933490753,\n",
       "    'Left': 0.16443300247192383,\n",
       "    'Top': 0.15555599331855774},\n",
       "   'ImageId': 'd20b2857-0f0c-54f7-a891-aa6b634961a2',\n",
       "   'ExternalImageId': 'Geet',\n",
       "   'Confidence': 99.99800109863281}],\n",
       " 'NextToken': 'omhZPGXg+DVD0GBIuS4hZfS7cGtPR8uV8tK04yHf1pUuk8y8WJWBL0o42zf1MHSH44gEcPoflopcWajUwDSGrx9OF8Ndb4wZgMGWCWcHRrE9qVXbL4/5kLM=',\n",
       " 'FaceModelVersion': '3.0',\n",
       " 'ResponseMetadata': {'RequestId': '2b9b6c90-bc28-11e8-81ee-cded0126c6ed',\n",
       "  'HTTPStatusCode': 200,\n",
       "  'HTTPHeaders': {'content-type': 'application/x-amz-json-1.1',\n",
       "   'date': 'Wed, 19 Sep 2018 16:22:14 GMT',\n",
       "   'x-amzn-requestid': '2b9b6c90-bc28-11e8-81ee-cded0126c6ed',\n",
       "   'content-length': '3485',\n",
       "   'connection': 'keep-alive'},\n",
       "  'RetryAttempts': 0}}"
      ]
     },
     "execution_count": 7,
     "metadata": {},
     "output_type": "execute_result"
    }
   ],
   "source": [
    "client.list_faces(CollectionId = 'ImageCollection', MaxResults = 12)"
   ]
  },
  {
   "cell_type": "code",
   "execution_count": 8,
   "metadata": {},
   "outputs": [],
   "source": [
    "#Searching the faces by Image function\n",
    "def SearchFaceByImage(image):\n",
    "    response  = client.search_faces_by_image(CollectionId = 'ImageCollection',Image = image,FaceMatchThreshold = 70)\n",
    "    faceMatches = response['FaceMatches'] \n",
    "    \n",
    "    if (len(faceMatches) ==0):\n",
    "        print(\"Unable to recognize this person\")\n",
    "    else:\n",
    "        maxconfidence = 70\n",
    "        for image in (response['FaceMatches']):\n",
    "            confidence = image['Face']['Confidence']\n",
    "            if (confidence>maxconfidence):\n",
    "                maxconfidence = confidence\n",
    "        for image in (response['FaceMatches']):\n",
    "            confidence = image['Face']['Confidence']\n",
    "            if(confidence == maxconfidence):\n",
    "                name = image['Face']['ExternalImageId']           \n",
    "        print(\"The person is {}\".format(name))"
   ]
  },
  {
   "cell_type": "code",
   "execution_count": 9,
   "metadata": {},
   "outputs": [],
   "source": [
    "#Capturing the Image from Web Cam\n",
    "def CapturePhotoFromWebCam():\n",
    "    cam =cv2.VideoCapture(0)\n",
    "    retval,frame = cam.read()\n",
    "    \n",
    "    if retval:\n",
    "        cv2.imwrite(\"Checkimage.jpg\",frame)\n",
    "        cv2.imshow(\"Photo_Frame\",frame)\n",
    "        face = {'Bytes': cv2.imencode('.jpg', frame)[1].tobytes()}\n",
    "        cv2.destroyAllWindows()\n",
    "    cam.release()\n",
    "    del(cam)\n",
    "    \n",
    "    return face"
   ]
  },
  {
   "cell_type": "code",
   "execution_count": 10,
   "metadata": {},
   "outputs": [],
   "source": [
    "face1=CapturePhotoFromWebCam()"
   ]
  },
  {
   "cell_type": "code",
   "execution_count": 11,
   "metadata": {},
   "outputs": [
    {
     "name": "stdout",
     "output_type": "stream",
     "text": [
      "The person is Tejaswini\n"
     ]
    }
   ],
   "source": [
    "SearchFaceByImage(face1)"
   ]
  },
  {
   "cell_type": "code",
   "execution_count": 16,
   "metadata": {},
   "outputs": [],
   "source": [
    "face2=CapturePhotoFromWebCam()"
   ]
  },
  {
   "cell_type": "code",
   "execution_count": 17,
   "metadata": {},
   "outputs": [
    {
     "name": "stdout",
     "output_type": "stream",
     "text": [
      "Unable to recognize this person\n"
     ]
    }
   ],
   "source": [
    "SearchFaceByImage(face2)"
   ]
  }
 ],
 "metadata": {
  "kernelspec": {
   "display_name": "Python 3",
   "language": "python",
   "name": "python3"
  },
  "language_info": {
   "codemirror_mode": {
    "name": "ipython",
    "version": 3
   },
   "file_extension": ".py",
   "mimetype": "text/x-python",
   "name": "python",
   "nbconvert_exporter": "python",
   "pygments_lexer": "ipython3",
   "version": "3.7.0"
  }
 },
 "nbformat": 4,
 "nbformat_minor": 2
}
